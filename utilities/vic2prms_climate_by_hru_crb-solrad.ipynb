{
 "metadata": {
  "name": ""
 },
 "nbformat": 3,
 "nbformat_minor": 0,
 "worksheets": [
  {
   "cells": [
    {
     "cell_type": "code",
     "collapsed": false,
     "input": [
      "%pylab inline"
     ],
     "language": "python",
     "metadata": {},
     "outputs": []
    },
    {
     "cell_type": "markdown",
     "metadata": {},
     "source": [
      "Load the paths, indices and date range"
     ]
    },
    {
     "cell_type": "code",
     "collapsed": false,
     "input": [
      "import sys, os, datetime, time\n",
      "import numpy as np\n",
      "import pandas as pd\n",
      "from datetime import datetime\n",
      "vic_path = '/raid/oriana/bpa/crb_forcings/'\n",
      "vic_header = ['precip', 'tmax', 'tmin', 'wind']\n",
      "forcing_start = datetime(2006, 1, 1)\n",
      "forcing_end = datetime(2010, 9, 30)\n",
      "solrad_start = datetime(2006, 1, 1)\n",
      "solrad_end = datetime(2010, 9, 30)\n",
      "solrad_dates = pd.date_range(start = solrad_start, end=solrad_end, freq='D')\n",
      "forcing_dates = pd.date_range(start = forcing_start, end=forcing_end, freq='D')"
     ],
     "language": "python",
     "metadata": {},
     "outputs": []
    },
    {
     "cell_type": "markdown",
     "metadata": {},
     "source": [
      "Load the station location information"
     ]
    },
    {
     "cell_type": "code",
     "collapsed": false,
     "input": [
      "filename = np.loadtxt('/raid/oriana/bpa/sw_6', usecols = [0], dtype=str)"
     ],
     "language": "python",
     "metadata": {},
     "outputs": []
    },
    {
     "cell_type": "code",
     "collapsed": true,
     "input": [
      "langleys = []\n",
      "count = 1\n",
      "for i,filename in enumerate(filename):\n",
      "    original_file = '/raid/oriana/bpa/crb_sw/'+filename\n",
      "    print count\n",
      "    temp_sw = np.loadtxt(original_file, dtype = float, usecols = [0], unpack=True)\n",
      "    # Convert solar radiation from W/m^2 to langleys\n",
      "    sw_langleys = temp_sw * (86400/41868)\n",
      "    if langleys == []:\n",
      "        langleys = sw_langleys.reshape(-1,1)\n",
      "        count += 1\n",
      "    else:\n",
      "        langleys = np.append(langleys, sw_langleys.reshape(-1,1), axis =1)\n",
      "        count += 1\n",
      "#print langleys\n"
     ],
     "language": "python",
     "metadata": {},
     "outputs": []
    },
    {
     "cell_type": "code",
     "collapsed": false,
     "input": [
      "np.savetxt('/raid/oriana/bpa/solradtemp6',langleys,fmt='%.3f')"
     ],
     "language": "python",
     "metadata": {},
     "outputs": []
    },
    {
     "cell_type": "code",
     "collapsed": false,
     "input": [
      "year,month,day,hour,minute,second = np.loadtxt('/raid/oriana/bpa/trunc_date_time_template.csv', dtype = int, usecols = (0,1,2,3,4,5), unpack=True, ndmin=2)\n",
      "date_output = np.concatenate([year.reshape(-1,1), month.reshape(-1,1), day.reshape(-1,1), hour.reshape(-1,1), minute.reshape(-1,1), second.reshape(-1,1)], axis=1)\n",
      "\n",
      "#df_dates= pd.DataFrame(date_output)"
     ],
     "language": "python",
     "metadata": {},
     "outputs": []
    },
    {
     "cell_type": "code",
     "collapsed": false,
     "input": [
      "data_zeros = second.reshape(-1,1)\n",
      "finaldata_empty= np.append(date_output,data_zeros, axis=1)\n",
      "np.savetxt('/raid/oriana/bpa/crb_sw_dom.data', finaldata_empty, fmt='%s')"
     ],
     "language": "python",
     "metadata": {},
     "outputs": []
    },
    {
     "cell_type": "code",
     "collapsed": false,
     "input": [
      "np.savetxt('/raid/oriana/bpa/datetemp',date_output,fmt='%i')\n",
      "#np.savetxt('solradtemp',forcing_output,fmt='%.3f')\n",
      "np.savetxt('/raid/oriana/bpa/preciptemp',df_precips_truncate,fmt='%.3f')\n",
      "np.savetxt('/raid/oriana/bpa/tmaxtemp',df_tmaxs_truncate,fmt='%.3f')\n",
      "np.savetxt('/raid/oriana/bpa/tmintemp',df_tmins_truncate,fmt='%.3f')\n",
      "dates = np.loadtxt('/raid/oriana/bpa/datetemp', dtype = str)\n",
      "#solrad = np.loadtxt('solradtemp',dtype = str)\n",
      "precip = np.loadtxt('/raid/oriana/bpa/preciptemp',dtype = str)\n",
      "tmax = np.loadtxt('/raid/oriana/bpa/tmaxtemp',dtype = str)\n",
      "tmin = np.loadtxt('/raid/oriana/bpa/tmintemp',dtype = str)\n",
      "#finaldata_sr = np.append(dates,solrad,axis=1)\n",
      "finaldata_ppt = np.append(dates,precip,axis=1)\n",
      "finaldata_tmax = np.append(dates,tmax,axis=1)\n",
      "finaldata_tmin = np.append(dates,tmin,axis=1)\n",
      "#np.savetxt('yakima.solrad.data',finaldata_sr,fmt='%s')\n",
      "np.savetxt('/raid/oriana/bpa/crb_sw_dom.precip.data',finaldata_ppt,fmt='%s')\n",
      "np.savetxt('/raid/oriana/bpa/crb_sw_dom.tmax.data',finaldata_tmax,fmt='%s')\n",
      "np.savetxt('/raid/oriana/bpa/crb_sw_dom.tmin.data',finaldata_tmin,fmt='%s')"
     ],
     "language": "python",
     "metadata": {},
     "outputs": []
    },
    {
     "cell_type": "code",
     "collapsed": false,
     "input": [
      "#df_prms_data_file=pd.concat(allcolumns, axis=1)\n",
      "#print df_prms_data_file\n",
      "#df_dates.to_csv('datetemp', sep=' ')\n",
      "#np.savetxt('datetemp',date_output,fmt='%i')\n",
      "#np.savetxt('datatemp',forcing_output,fmt='%.3f')\n",
      "#dates = np.loadtxt('datetemp', dtype = str)\n",
      "#forcings = np.loadtxt('datatemp',dtype = str)\n",
      "#finaldata = np.append(dates,forcings,axis=1)\n",
      "#np.savetxt('PRMS_formatted_data_file2',finaldata,fmt='%s')\n",
      "\n",
      "#dataframes=[df_langleys, \n",
      "#concat(dataframes)\n",
      "#df2_langleys=pd.DataFrame(langleys, index=solrad_dates)\n",
      "#print df2_langleys"
     ],
     "language": "python",
     "metadata": {},
     "outputs": []
    },
    {
     "cell_type": "code",
     "collapsed": false,
     "input": [
      "df_prms_data_file.to_csv('prms_data_file', sep=' ')\n",
      "#output = np.append(df_langleys.columns, df_langleys.values, axis = 0)\n",
      "#np.savetxt('/nfs/therapy/raid/tcchiao/intermodel/wb/PRMS_water_balance', output, fmt='%s')\n",
      "\n"
     ],
     "language": "python",
     "metadata": {},
     "outputs": []
    },
    {
     "cell_type": "code",
     "collapsed": false,
     "input": [
      "outarray = np.empty((4,10))\n",
      "#outarray.shape\n",
      "#len(outarray)\n",
      "#assert len(outarray) ==3 \n",
      "outarray"
     ],
     "language": "python",
     "metadata": {},
     "outputs": []
    },
    {
     "cell_type": "code",
     "collapsed": false,
     "input": [],
     "language": "python",
     "metadata": {},
     "outputs": []
    },
    {
     "cell_type": "code",
     "collapsed": false,
     "input": [
      "/home/raid2/homefc/conus/outputs/binaries"
     ],
     "language": "python",
     "metadata": {},
     "outputs": []
    }
   ],
   "metadata": {}
  }
 ]
}