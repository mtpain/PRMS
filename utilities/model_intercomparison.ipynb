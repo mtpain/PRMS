{
 "metadata": {
  "name": ""
 },
 "nbformat": 3,
 "nbformat_minor": 0,
 "worksheets": [
  {
   "cells": [
    {
     "cell_type": "code",
     "collapsed": false,
     "input": [
      "# Import all needed libraries \n",
      "import sys, os, datetime, time\n",
      "import numpy as np\n",
      "import pandas as pd\n",
      "import matplotlib.dates as dates\n",
      "import matplotlib.ticker as ticker\n",
      "from matplotlib.backends.backend_pdf import PdfPages\n",
      "from mpl_toolkits.basemap import Basemap, cm\n",
      "from mpl_toolkits.mplot3d import Axes3D\n",
      "from netCDF4 import Dataset\n",
      "import matplotlib.gridspec as gridspec\n"
     ],
     "language": "python",
     "metadata": {},
     "outputs": []
    },
    {
     "cell_type": "code",
     "collapsed": false,
     "input": [
      "inpath = '/raid/oriana/bpa'"
     ],
     "language": "python",
     "metadata": {},
     "outputs": []
    },
    {
     "cell_type": "code",
     "collapsed": false,
     "input": [
      "ncfile_prms = os.path.join(inpath, 'crb_sw_dom_hru_id.nc')\n",
      "ncfile_VIC = os.path.join(inpath, 'vic_crb_maxSWEwy2009.nc')\n",
      "ncfile_ULM = os.path.join(inpath, 'latlon_ulm.nc')"
     ],
     "language": "python",
     "metadata": {},
     "outputs": []
    },
    {
     "cell_type": "code",
     "collapsed": false,
     "input": [
      "prms_output_file = os.path.join(inpath, 'statvar_swe')\n",
      "\n",
      "skiprows = 23489\n",
      "startcol = 15\n",
      "ncols = 23480\n",
      "fig_format = 'png'"
     ],
     "language": "python",
     "metadata": {},
     "outputs": []
    },
    {
     "cell_type": "code",
     "collapsed": false,
     "input": [
      "def cbarextend(cbarrange, datarange):\n",
      "    extend = None\n",
      "    if cbarrange[0] == None:\n",
      "        cbarrange[0] = datarange[0]\n",
      "    if cbarrange[1] == None:\n",
      "        cbarrange[1] = datarange[1]\n",
      "    if datarange[0] < cbarrange[0]:\n",
      "        extend = 'min'\n",
      "    if datarange[1] > cbarrange[1]:\n",
      "        if extend:\n",
      "            extend = 'both'\n",
      "        else:\n",
      "            extend= 'max'\n",
      "    if not extend:\n",
      "        extend = 'neither'\n",
      "        \n",
      "    return extend"
     ],
     "language": "python",
     "metadata": {},
     "outputs": []
    },
    {
     "cell_type": "code",
     "collapsed": false,
     "input": [
      "def get_HRUgrid(ncfile, ncvarname='Band1', latvarname='lat', lonvarname='lon', colnametemplate='hru_{:03d}'):\n",
      "    '''Read HRU info from netcdf file'''\n",
      "    \n",
      "    nc = Dataset(ncfile)\n",
      "    ncvar = nc.variables[ncvarname][:]\n",
      "    lon = nc.variables[lonvarname][:]\n",
      "    lat = nc.variables[latvarname][:]\n",
      "    nc.close()\n",
      "\n",
      "    hru_grid = {}\n",
      "    for x in range(ncvar.shape[0]):\n",
      "        for y in range(ncvar.shape[1]):\n",
      "            if ncvar.mask[x,y] == False:\n",
      "                hru_grid[colnametemplate.format(ncvar[x,y])] = (x,y)\n",
      "\n",
      "    return ncvar, lon, lat, hru_grid"
     ],
     "language": "python",
     "metadata": {},
     "outputs": []
    },
    {
     "cell_type": "code",
     "collapsed": false,
     "input": [
      "def map_HRU_to_grid(grid, hru_grid, data, dtype=float):\n",
      "    '''Map data to grid using mapping dictionary hru_grid'''\n",
      "    gridmap = np.ma.MaskedArray(grid, dtype=dtype)\n",
      "    for h, loc in hru_grid.iteritems():\n",
      "        gridmap[loc[0], loc[1]] = data[h]\n",
      "        \n",
      "    return gridmap"
     ],
     "language": "python",
     "metadata": {},
     "outputs": []
    },
    {
     "cell_type": "code",
     "collapsed": false,
     "input": [
      "def read_prms_file(infile, skiprows, startcol, ncols, colnametemplate='hru_{:03d}', unitconversion=25.4, \n",
      "                   datecols=[1,2,3], start=None, end=None):\n",
      "    '''Reads a PRMS file'''\n",
      "\n",
      "    names = [colnametemplate.format(i) for i in range(1,ncols+1)]\n",
      "\n",
      "    data = np.loadtxt(infile, skiprows=skiprows, usecols=np.arange(startcol, startcol+ncols, 1))\n",
      "    data *= unitconversion\n",
      "\n",
      "    yy, mm, dd = np.loadtxt(infile, skiprows=skiprows, usecols=datecols, unpack=True, dtype=int)\n",
      "    # Convert the string format dates into a datetime object\n",
      "    dates = [datetime.datetime(*i) for i in zip(yy, mm, dd)]\n",
      "\n",
      "    df = pd.DataFrame(data, index=dates, columns=names)\n",
      "    if start:\n",
      "        df = df[start:]\n",
      "    if end:\n",
      "        df = df[:end]\n",
      "\n",
      "    return df"
     ],
     "language": "python",
     "metadata": {},
     "outputs": []
    },
    {
     "cell_type": "code",
     "collapsed": false,
     "input": [
      "def plotmap(ax, var, lats, lons, varmin=None, varmax=None, cmap=cm.GMT_drywet,\n",
      "            plottext=None, fontsize=16):\n",
      "\n",
      "    area_thresh=10000\n",
      "    land_color='grey'\n",
      "    ocean_color='lightblue'\n",
      "\n",
      "    if varmin == None:\n",
      "        varmin = var.min()\n",
      "    if varmax == None:\n",
      "        varmax = var.max()\n",
      "\n",
      "    border  = 1\n",
      "    latmi   = min(lats)-border\n",
      "    latmx   = max(lats)+border\n",
      "    latmean = (latmi+latmx)/2.\n",
      "    lonmi   = min(lons)-border\n",
      "    lonmx   = max(lons)+border\n",
      "    lonmean = (lonmi+lonmx)/2.\n",
      "\n",
      "    m = Basemap(projection='merc', lat_0=latmean, lon_0=lonmean, llcrnrlat=latmi,\n",
      "                urcrnrlat=latmx, llcrnrlon=lonmi, urcrnrlon=lonmx, resolution='i',\n",
      "                area_thresh=area_thresh)\n",
      "    xx,yy = np.meshgrid(lons, lats)\n",
      "    xi,yi = m(xx,yy)\n",
      "    norm = mpl.colors.Normalize(varmin, varmax)\n",
      "    m.pcolormesh(xi, yi, var, cmap=cmap, norm=norm)\n",
      "    m.drawlsmask(land_color=land_color, ocean_color=ocean_color, lakes=True)\n",
      "    m.drawcoastlines(linewidth=0.75)\n",
      "    m.drawstates(linewidth=0.5)\n",
      "    m.drawcountries(linewidth=0.5)\n",
      "    if plottext != None:\n",
      "        ax.text(0.98, 0.05, plottext, horizontalalignment='right',\n",
      "                verticalalignment='bottom', transform=ax.transAxes,\n",
      "                fontsize=fontsize)\n",
      "    return norm"
     ],
     "language": "python",
     "metadata": {},
     "outputs": []
    },
    {
     "cell_type": "code",
     "collapsed": false,
     "input": [
      "def get_ncvars(ncfile, ncvarname='SWE', latvarname='lat', lonvarname='lon'):\n",
      "    '''Read output data from netcdf file'''\n",
      "    \n",
      "    nc = Dataset(ncfile, 'r')\n",
      "    var = nc.variables[ncvarname][:]\n",
      "    lon = nc.variables[lonvarname][:]\n",
      "    lat = nc.variables[latvarname][:]\n",
      "    nc.close()\n",
      "\n",
      "    return var, lon, lat"
     ],
     "language": "python",
     "metadata": {},
     "outputs": []
    },
    {
     "cell_type": "code",
     "collapsed": false,
     "input": [
      "ID, lon_prms, lat_prms, hru_grid = get_HRUgrid(ncfile_prms)\n",
      "df = read_prms_file(prms_output_file, skiprows, startcol, ncols, start='2006-10-01', end='2010-09-30')"
     ],
     "language": "python",
     "metadata": {},
     "outputs": []
    },
    {
     "cell_type": "code",
     "collapsed": false,
     "input": [
      "startdate = datetime.datetime(2008,10,1)\n",
      "enddate = datetime.datetime(2009,9,30)\n",
      "data = df[startdate:enddate].max()\n",
      "toplot = map_HRU_to_grid(ID, hru_grid, data)"
     ],
     "language": "python",
     "metadata": {},
     "outputs": []
    },
    {
     "cell_type": "code",
     "collapsed": false,
     "input": [
      "fig = plt.figure(figsize=(12,5))\n",
      "suptitle('Three models implemented over Columbia River basin at 1/16$^\\circ$ resolution', fontsize=14, fontweight='bold')\n",
      "models = {'VIC':ncfile_VIC, 'ULM':ncfile_ULM, 'PRMS':toplot}\n",
      "for i,(model,filename) in enumerate(models.iteritems()):\n",
      "    if model=='PRMS':\n",
      "        ax = fig.add_subplot(1,len(models), i, title=model)\n",
      "        plotmap(ax, toplot, lat_prms, lon_prms, varmax=800, cmap='Blues')\n",
      "    else:\n",
      "        ax = fig.add_subplot(1, len(models), i, title=model)\n",
      "        get_ncvars(filename)\n",
      "        plotmap(ax, var, lat, lon, varmax=800, cmap='Blues')"
     ],
     "language": "python",
     "metadata": {},
     "outputs": []
    },
    {
     "cell_type": "code",
     "collapsed": false,
     "input": [
      "#"
     ],
     "language": "python",
     "metadata": {},
     "outputs": []
    }
   ],
   "metadata": {}
  }
 ]
}