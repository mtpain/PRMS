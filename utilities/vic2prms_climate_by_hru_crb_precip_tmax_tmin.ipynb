{
 "metadata": {
  "name": ""
 },
 "nbformat": 3,
 "nbformat_minor": 0,
 "worksheets": [
  {
   "cells": [
    {
     "cell_type": "code",
     "collapsed": false,
     "input": [
      "%pylab inline"
     ],
     "language": "python",
     "metadata": {},
     "outputs": []
    },
    {
     "cell_type": "markdown",
     "metadata": {},
     "source": [
      "Load the paths, indices and date range"
     ]
    },
    {
     "cell_type": "code",
     "collapsed": false,
     "input": [
      "import sys, os, datetime, time\n",
      "import numpy as np\n",
      "import pandas as pd\n",
      "from datetime import datetime\n",
      "vic_path = '/raid/oriana/bpa/crb_forcings/'\n",
      "vic_header = ['precip', 'tmax', 'tmin', 'wind']\n",
      "forcing_start = datetime(2006, 1, 1)\n",
      "forcing_end = datetime(2010, 9, 30)\n",
      "solrad_start = datetime(2006, 1, 1)\n",
      "solrad_end = datetime(2010, 12, 31)\n",
      "solrad_dates = pd.date_range(start = solrad_start, end=solrad_end, freq='D')\n",
      "forcing_dates = pd.date_range(start = forcing_start, end=forcing_end, freq='D')"
     ],
     "language": "python",
     "metadata": {},
     "outputs": []
    },
    {
     "cell_type": "code",
     "collapsed": false,
     "input": [
      "print forcing_dates.shape"
     ],
     "language": "python",
     "metadata": {},
     "outputs": []
    },
    {
     "cell_type": "markdown",
     "metadata": {},
     "source": [
      "Load the station location information"
     ]
    },
    {
     "cell_type": "code",
     "collapsed": false,
     "input": [
      "latitude= np.loadtxt('/raid/oriana/bpa/crb_sw_coordlist8.csv', usecols = [1], unpack =True)\n",
      "longitude= np.loadtxt('/raid/oriana/bpa/crb_sw_coordlist8.csv', usecols = [2], unpack = True)\n",
      "print longitude.shape"
     ],
     "language": "python",
     "metadata": {},
     "outputs": []
    },
    {
     "cell_type": "code",
     "collapsed": true,
     "input": [
      "precips, tmaxs, tmins = [],[],[]\n",
      "count = 1\n",
      "for i,latlon in enumerate(zip(latitude,longitude)):\n",
      "    original_file = '/raid/oriana/bpa/crb_forcings/trunc_data_'+str(latlon[0])+'_'+str(latlon[1])\n",
      "    temp_prec, temp_tmax, temp_tmin= np.loadtxt(original_file, dtype = float, usecols = (0,1,2), unpack=True)\n",
      "    print count\n",
      "    # Convert solar radiation from W/m^2 to langleys\n",
      "    # convert tmax and tmin from degree Celcius to degree F\n",
      "    # convert precipitation in mm/day to inch/day\n",
      "    prec = temp_prec/25.4\n",
      "    tmax_f = (temp_tmax*1.8)+32\n",
      "    tmin_f = (temp_tmin*1.8)+32\n",
      "    if precips == []:\n",
      "        precips = prec.reshape(-1,1)\n",
      "        tmaxs = tmax_f.reshape(-1,1)\n",
      "        tmins = tmin_f.reshape(-1,1)\n",
      "        count+=1\n",
      "    else:\n",
      "        precips = np.append(precips, prec.reshape(-1,1), axis =1)\n",
      "        tmaxs = np.append(tmaxs, tmax_f.reshape(-1,1), axis =1)\n",
      "        tmins = np.append(tmins, tmin_f.reshape(-1,1), axis =1)\n",
      "        count+=1"
     ],
     "language": "python",
     "metadata": {},
     "outputs": []
    },
    {
     "cell_type": "code",
     "collapsed": false,
     "input": [
      "#np.savetxt('/raid/oriana/bpa/datetemp',date_output,fmt='%i')\n",
      "\n",
      "np.savetxt('/raid/oriana/bpa/preciptemp8',precips,fmt='%.3f')\n",
      "np.savetxt('/raid/oriana/bpa/tmaxtemp8',tmaxs,fmt='%.3f')\n",
      "np.savetxt('/raid/oriana/bpa/tmintemp8',tmins,fmt='%.3f')\n",
      "#dates = np.loadtxt('/raid/oriana/bpa/datetemp', dtype = str)"
     ],
     "language": "python",
     "metadata": {},
     "outputs": []
    },
    {
     "cell_type": "code",
     "collapsed": false,
     "input": [
      "#precip1= np.loadtxt('/raid/oriana/bpa/preciptemp1',dtype = str)\n",
      "tmax1= np.loadtxt('/raid/oriana/bpa/tmaxtemp1',dtype = str)\n",
      "#tmin1= np.loadtxt('/raid/oriana/bpa/tmintemp1',dtype = str)\n",
      "#solrad1= np.loadtxt('/raid/oriana/bpa/solrad1',dtype = str)"
     ],
     "language": "python",
     "metadata": {},
     "outputs": []
    },
    {
     "cell_type": "code",
     "collapsed": false,
     "input": [
      "#precip2 = np.loadtxt('/raid/oriana/bpa/preciptemp2',dtype = str)\n",
      "tmax2 = np.loadtxt('/raid/oriana/bpa/tmaxtemp2',dtype = str)\n",
      "#tmin2 = np.loadtxt('/raid/oriana/bpa/tmintemp2',dtype = str)\n",
      "#solrad2= np.loadtxt('/raid/oriana/bpa/solrad2',dtype = str)"
     ],
     "language": "python",
     "metadata": {},
     "outputs": []
    },
    {
     "cell_type": "code",
     "collapsed": false,
     "input": [
      "#precip3 = np.loadtxt('/raid/oriana/bpa/preciptemp3',dtype = str)\n",
      "tmax3 = np.loadtxt('/raid/oriana/bpa/tmaxtemp3',dtype = str)\n",
      "#tmin3 = np.loadtxt('/raid/oriana/bpa/tmintemp3',dtype = str)\n",
      "#solrad3= np.loadtxt('/raid/oriana/bpa/solrad3',dtype = str)"
     ],
     "language": "python",
     "metadata": {},
     "outputs": []
    },
    {
     "cell_type": "code",
     "collapsed": false,
     "input": [
      "#precip4 = np.loadtxt('/raid/oriana/bpa/preciptemp4',dtype = str)\n",
      "tmax4 = np.loadtxt('/raid/oriana/bpa/tmaxtemp4',dtype = str)\n",
      "#tmin4 = np.loadtxt('/raid/oriana/bpa/tmintemp4',dtype = str)\n",
      "#solrad4= np.loadtxt('/raid/oriana/bpa/solrad4',dtype = str)"
     ],
     "language": "python",
     "metadata": {},
     "outputs": []
    },
    {
     "cell_type": "code",
     "collapsed": false,
     "input": [
      "#precip5 = np.loadtxt('/raid/oriana/bpa/preciptemp5',dtype = str)\n",
      "tmax5 = np.loadtxt('/raid/oriana/bpa/tmaxtemp5',dtype = str)\n",
      "#tmin5 = np.loadtxt('/raid/oriana/bpa/tmintemp5',dtype = str)\n",
      "#solrad5= np.loadtxt('/raid/oriana/bpa/solrad5',dtype = str)"
     ],
     "language": "python",
     "metadata": {},
     "outputs": []
    },
    {
     "cell_type": "code",
     "collapsed": false,
     "input": [
      "#precip6 = np.loadtxt('/raid/oriana/bpa/preciptemp6',dtype = str)\n",
      "tmax6 = np.loadtxt('/raid/oriana/bpa/tmaxtemp6',dtype = str)\n",
      "#tmin6 = np.loadtxt('/raid/oriana/bpa/tmintemp6',dtype = str)\n",
      "#solrad6= np.loadtxt('/raid/oriana/bpa/solrad6',dtype = str)"
     ],
     "language": "python",
     "metadata": {},
     "outputs": []
    },
    {
     "cell_type": "code",
     "collapsed": false,
     "input": [
      "#precip7 = np.loadtxt('/raid/oriana/bpa/preciptemp7',dtype = str)\n",
      "tmax7 = np.loadtxt('/raid/oriana/bpa/tmaxtemp7',dtype = str)\n",
      "#tmin7 = np.loadtxt('/raid/oriana/bpa/tmintemp7',dtype = str)"
     ],
     "language": "python",
     "metadata": {},
     "outputs": []
    },
    {
     "cell_type": "code",
     "collapsed": false,
     "input": [
      "#precip8 = np.loadtxt('/raid/oriana/bpa/preciptemp8',dtype = str)\n",
      "tmax8 = np.loadtxt('/raid/oriana/bpa/tmaxtemp8',dtype = str)\n",
      "#tmin8 = np.loadtxt('/raid/oriana/bpa/tmintemp8',dtype = str)"
     ],
     "language": "python",
     "metadata": {},
     "outputs": []
    },
    {
     "cell_type": "code",
     "collapsed": false,
     "input": [
      "year,month,day,hour,minute,second = np.loadtxt('/raid/oriana/bpa/trunc_date_time_template.csv', dtype = int, usecols = (0,1,2,3,4,5), unpack=True, ndmin=2)\n",
      "date_output = np.concatenate([year.reshape(-1,1), month.reshape(-1,1), day.reshape(-1,1), hour.reshape(-1,1), minute.reshape(-1,1), second.reshape(-1,1)], axis=1)\n",
      "np.savetxt('datetemp',date_output,fmt='%i')\n",
      "dates = np.loadtxt('datetemp', dtype = str)\n"
     ],
     "language": "python",
     "metadata": {},
     "outputs": []
    },
    {
     "cell_type": "code",
     "collapsed": false,
     "input": [
      "solrad1.shape"
     ],
     "language": "python",
     "metadata": {},
     "outputs": []
    },
    {
     "cell_type": "code",
     "collapsed": false,
     "input": [
      "tmax = np.loadtxt('/raid/oriana/bpa/crb_sw_dom.tmax.data', skiprows=3, unpack = True)"
     ],
     "language": "python",
     "metadata": {},
     "outputs": []
    },
    {
     "cell_type": "code",
     "collapsed": false,
     "input": [
      "tmin = np.loadtxt('/raid/oriana/bpa/crb_sw_dom.tmin.data', skiprows=3, unpack = True)"
     ],
     "language": "python",
     "metadata": {},
     "outputs": []
    },
    {
     "cell_type": "code",
     "collapsed": false,
     "input": [
      "solrad = np.loadtxt('/raid/oriana/bpa/crb_sw_dom.solrad.data', skiprows=3, unpack = True)"
     ],
     "language": "python",
     "metadata": {},
     "outputs": []
    },
    {
     "cell_type": "code",
     "collapsed": false,
     "input": [
      "precip = np.loadtxt('/raid/oriana/bpa/crb_sw_dom.precip.data', skiprows=3, unpack = True)"
     ],
     "language": "python",
     "metadata": {},
     "outputs": []
    },
    {
     "cell_type": "code",
     "collapsed": false,
     "input": [
      "precip.shape\n"
     ],
     "language": "python",
     "metadata": {},
     "outputs": []
    },
    {
     "cell_type": "code",
     "collapsed": false,
     "input": [
      "#finaldata_ppt = np.concatenate([dates,precip1, precip2, precip3, precip4, precip5, precip6, precip7, precip8],axis=1)\n",
      "finaldata_tmax = np.concatenate([dates,tmax1, tmax2, tmax3, tmax4, tmax5, tmax6, tmax7, tmax8] ,axis=1)\n",
      "#finaldata_tmin = np.concatenate([dates,solrad1, solrad2, solrad3, solrad4, solrad5, solrad6] ,axis=1)\n",
      "#finaldata_solrad = np.concatenate([dates,solrad1, solrad2, solrad3, solrad4, solrad5, solrad6] ,axis=1)\n",
      "\n",
      "#np.savetxt('/raid/oriana/bpa/crb_sw_dom.precip.data',finaldata_ppt,fmt='%s')\n",
      "#np.savetxt('/raid/oriana/bpa/crb_sw_dom.tmax.data',finaldata_tmax,fmt='%s')\n",
      "#np.savetxt('/raid/oriana/bpa/crb_sw_dom.tmin.data',finaldata_tmin,fmt='%s')\n",
      "\n",
      "np.savetxt('/raid/oriana/bpa/crb_sw_dom.tmax.data',finaldata_tmax,fmt='%s')"
     ],
     "language": "python",
     "metadata": {},
     "outputs": []
    },
    {
     "cell_type": "code",
     "collapsed": true,
     "input": [
      "langleys = []\n",
      "for i,latlon in enumerate(zip(latitude,longitude)):\n",
      "    original_file = '/raid/oriana/bpa/yakima_forcings/sw_'+str(latlon[0])+'_'+str(latlon[1])\n",
      "    print original_file\n",
      "    temp_sw = np.loadtxt(original_file, dtype = float, usecols = [0], unpack=True)\n",
      "    # Convert solar radiation from W/m^2 to langleys\n",
      "    sw_langleys = temp_sw * (86400/41868)\n",
      "    if langleys == []:\n",
      "        langleys = sw_langleys.reshape(-1,1)\n",
      "    else:\n",
      "        langleys = np.append(langleys, sw_langleys.reshape(-1,1), axis =1)\n",
      "print langleys\n"
     ],
     "language": "python",
     "metadata": {},
     "outputs": []
    },
    {
     "cell_type": "code",
     "collapsed": false,
     "input": [
      "#print temp_prec.shape\n",
      "langleys[0][0]"
     ],
     "language": "python",
     "metadata": {},
     "outputs": []
    },
    {
     "cell_type": "code",
     "collapsed": false,
     "input": [
      "year,month,day,hour,minute,second = np.loadtxt('/raid/oriana/bpa/trunc_date_time_template.csv', dtype = int, usecols = (0,1,2,3,4,5), unpack=True, ndmin=2)\n",
      "date_output = np.concatenate([year.reshape(-1,1), month.reshape(-1,1), day.reshape(-1,1), hour.reshape(-1,1), minute.reshape(-1,1), second.reshape(-1,1)], axis=1)\n",
      "\n",
      "df_dates= pd.DataFrame(date_output)\n",
      "print df_dates\n",
      "print date_output"
     ],
     "language": "python",
     "metadata": {},
     "outputs": []
    },
    {
     "cell_type": "code",
     "collapsed": false,
     "input": [
      "df_langleys=pd.DataFrame(langleys, index=solrad_dates)"
     ],
     "language": "python",
     "metadata": {},
     "outputs": []
    },
    {
     "cell_type": "code",
     "collapsed": false,
     "input": [
      "#print tmaxs.shape, tmins.shape, precips.shape, langleys.shape\n",
      "df_tmaxs, df_tmins, df_precips = pd.DataFrame(tmaxs, index=forcing_dates),pd.DataFrame(tmins, index=forcing_dates), pd.DataFrame(precips, index=forcing_dates)\n",
      "#df_langleys=pd.DataFrame(langleys, index = solrad_dates)\n",
      "#df_langleys=pd.DataFrame(df_langleys.truncate(before = '1949-01-01', after = '2010-12-31'))\n",
      "#array_dates=df_dates.as_matrix()\n",
      "#print array_dates\n",
      "#allforcings=[df_tmaxs[:], df_tmins[:], df_precips[:], df_langleys[:]]\n",
      "#df_allforcings=pd.concat(allforcings, axis=1)\n",
      "#array_forcings=df_allforcings.as_matrix()\n",
      "#finaldata=np.append(array_dates, array_forcings, axis=1)\n",
      "#print finaldata\n",
      "#np.savetxt('prms_data_file', finaldata, fmt='%s')\n"
     ],
     "language": "python",
     "metadata": {},
     "outputs": []
    },
    {
     "cell_type": "code",
     "collapsed": false,
     "input": [
      "before_trunc='01/01/2006'\n",
      "after_trunc='9/30/2010'\n",
      "df_tmaxs_truncate=df_tmaxs.truncate(before=before_trunc, after=after_trunc)\n",
      "df_tmins_truncate=df_tmins.truncate(before=before_trunc, after=after_trunc)\n",
      "df_precips_truncate=df_precips.truncate(before=before_trunc, after=after_trunc)\n"
     ],
     "language": "python",
     "metadata": {},
     "outputs": []
    },
    {
     "cell_type": "code",
     "collapsed": false,
     "input": [
      "array_langleys=df_langleys.as_matrix()\n",
      "print array_langleys.shape"
     ],
     "language": "python",
     "metadata": {},
     "outputs": []
    },
    {
     "cell_type": "code",
     "collapsed": false,
     "input": [
      "data_zeros = second.reshape(-1,1)\n",
      "finaldata_empty= np.append(date_output,data_zeros, axis=1)\n",
      "np.savetxt('/raid/oriana/bpa/crb_sw_dom.data', finaldata_empty, fmt='%s')"
     ],
     "language": "python",
     "metadata": {},
     "outputs": []
    },
    {
     "cell_type": "code",
     "collapsed": false,
     "input": [
      "np.savetxt('datetemp',date_output,fmt='%i')\n",
      "np.savetxt('solradtemp',df_langleys,fmt='%.3f')\n",
      "sr = np.loadtxt('solradtemp',dtype = str)\n",
      "dates = np.loadtxt('datetemp', dtype = str)\n",
      "finaldata_sr = np.append(dates,sr,axis=1)\n",
      "np.savetxt('yakima.solrad.data',finaldata_sr,fmt='%s')"
     ],
     "language": "python",
     "metadata": {},
     "outputs": []
    },
    {
     "cell_type": "code",
     "collapsed": false,
     "input": [
      "np.savetxt('/raid/oriana/bpa/datetemp',date_output,fmt='%i')\n",
      "#np.savetxt('solradtemp',forcing_output,fmt='%.3f')\n",
      "np.savetxt('/raid/oriana/bpa/preciptemp',df_precips_truncate,fmt='%.3f')\n",
      "np.savetxt('/raid/oriana/bpa/tmaxtemp',df_tmaxs_truncate,fmt='%.3f')\n",
      "np.savetxt('/raid/oriana/bpa/tmintemp',df_tmins_truncate,fmt='%.3f')\n",
      "dates = np.loadtxt('/raid/oriana/bpa/datetemp', dtype = str)\n",
      "#solrad = np.loadtxt('solradtemp',dtype = str)\n",
      "precip = np.loadtxt('/raid/oriana/bpa/preciptemp',dtype = str)\n",
      "tmax = np.loadtxt('/raid/oriana/bpa/tmaxtemp',dtype = str)\n",
      "tmin = np.loadtxt('/raid/oriana/bpa/tmintemp',dtype = str)\n",
      "#finaldata_sr = np.append(dates,solrad,axis=1)\n",
      "finaldata_ppt = np.append(dates,precip,axis=1)\n",
      "finaldata_tmax = np.append(dates,tmax,axis=1)\n",
      "finaldata_tmin = np.append(dates,tmin,axis=1)\n",
      "#np.savetxt('yakima.solrad.data',finaldata_sr,fmt='%s')\n",
      "np.savetxt('/raid/oriana/bpa/crb_sw_dom.precip.data',finaldata_ppt,fmt='%s')\n",
      "np.savetxt('/raid/oriana/bpa/crb_sw_dom.tmax.data',finaldata_tmax,fmt='%s')\n",
      "np.savetxt('/raid/oriana/bpa/crb_sw_dom.tmin.data',finaldata_tmin,fmt='%s')"
     ],
     "language": "python",
     "metadata": {},
     "outputs": []
    },
    {
     "cell_type": "code",
     "collapsed": false,
     "input": [
      "#df_prms_data_file=pd.concat(allcolumns, axis=1)\n",
      "#print df_prms_data_file\n",
      "#df_dates.to_csv('datetemp', sep=' ')\n",
      "#np.savetxt('datetemp',date_output,fmt='%i')\n",
      "#np.savetxt('datatemp',forcing_output,fmt='%.3f')\n",
      "#dates = np.loadtxt('datetemp', dtype = str)\n",
      "#forcings = np.loadtxt('datatemp',dtype = str)\n",
      "#finaldata = np.append(dates,forcings,axis=1)\n",
      "#np.savetxt('PRMS_formatted_data_file2',finaldata,fmt='%s')\n",
      "\n",
      "#dataframes=[df_langleys, \n",
      "#concat(dataframes)\n",
      "#df2_langleys=pd.DataFrame(langleys, index=solrad_dates)\n",
      "#print df2_langleys"
     ],
     "language": "python",
     "metadata": {},
     "outputs": []
    },
    {
     "cell_type": "code",
     "collapsed": false,
     "input": [
      "df_prms_data_file.to_csv('prms_data_file', sep=' ')\n",
      "#output = np.append(df_langleys.columns, df_langleys.values, axis = 0)\n",
      "#np.savetxt('/nfs/therapy/raid/tcchiao/intermodel/wb/PRMS_water_balance', output, fmt='%s')\n",
      "\n"
     ],
     "language": "python",
     "metadata": {},
     "outputs": []
    },
    {
     "cell_type": "code",
     "collapsed": false,
     "input": [
      "outarray = np.empty((4,10))\n",
      "#outarray.shape\n",
      "#len(outarray)\n",
      "#assert len(outarray) ==3 \n",
      "outarray"
     ],
     "language": "python",
     "metadata": {},
     "outputs": []
    },
    {
     "cell_type": "code",
     "collapsed": false,
     "input": [],
     "language": "python",
     "metadata": {},
     "outputs": []
    },
    {
     "cell_type": "code",
     "collapsed": false,
     "input": [
      "/home/raid2/homefc/conus/outputs/binaries"
     ],
     "language": "python",
     "metadata": {},
     "outputs": []
    }
   ],
   "metadata": {}
  }
 ]
}